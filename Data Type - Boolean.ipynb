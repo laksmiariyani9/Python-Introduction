{
 "cells": [
  {
   "cell_type": "markdown",
   "id": "7e59db96-ae27-4a50-ae3b-9483b8b242fd",
   "metadata": {},
   "source": [
    "## Boolean\n",
    "- In Python, the boolean data type (bool) represents truth values. There are only two boolean values: True and False. Booleans are used to make logical decisions and comparisons in programming."
   ]
  },
  {
   "cell_type": "markdown",
   "id": "a43bed49-369a-4af8-b8dd-109813e73a5d",
   "metadata": {},
   "source": [
    "- Boolean values are commonly the result of comparison operations or logical operations. For example:"
   ]
  },
  {
   "cell_type": "code",
   "execution_count": 3,
   "id": "6bceabcf-603e-4d8f-ade1-039336a01d9b",
   "metadata": {},
   "outputs": [
    {
     "name": "stdout",
     "output_type": "stream",
     "text": [
      "False\n"
     ]
    }
   ],
   "source": [
    "x = 5\n",
    "y = 10\n",
    "\n",
    "is_greater = x > y  # Evaluates to False\n",
    "\n",
    "print(is_greater)"
   ]
  },
  {
   "cell_type": "markdown",
   "id": "ca2a255a-880c-4031-bf2f-67b3fde7d223",
   "metadata": {},
   "source": [
    "- Boolean values are often used in conditional statements (if, elif, else) to control the flow of a program based on certain conditions. For example:"
   ]
  },
  {
   "cell_type": "code",
   "execution_count": 4,
   "id": "76ff2927-3acd-41d9-8443-5100af7a92e3",
   "metadata": {},
   "outputs": [
    {
     "name": "stdout",
     "output_type": "stream",
     "text": [
      "x is not greater than y\n"
     ]
    }
   ],
   "source": [
    "if is_greater:\n",
    "    print(\"x is greater than y\")\n",
    "else:\n",
    "    print(\"x is not greater than y\")"
   ]
  },
  {
   "cell_type": "markdown",
   "id": "d64f9a67-c64a-45ed-af93-541532e48daf",
   "metadata": {},
   "source": [
    "- Boolean values can also be the result of logical operations such as and, or, and not. For example:"
   ]
  },
  {
   "cell_type": "code",
   "execution_count": 6,
   "id": "e2c0bc82-a65b-4a2a-9a14-35ea1d56cfc9",
   "metadata": {},
   "outputs": [
    {
     "name": "stdout",
     "output_type": "stream",
     "text": [
      "False\n",
      "True\n"
     ]
    }
   ],
   "source": [
    "is_even = (x % 2 == 0)  # Evaluates to False\n",
    "print(is_even)\n",
    "\n",
    "is_odd = not is_even    # Evaluates to True\n",
    "print(is_odd)"
   ]
  },
  {
   "cell_type": "code",
   "execution_count": null,
   "id": "39294f68-8e4f-44c9-8a29-ae654152d758",
   "metadata": {},
   "outputs": [],
   "source": []
  }
 ],
 "metadata": {
  "kernelspec": {
   "display_name": "Python 3 (ipykernel)",
   "language": "python",
   "name": "python3"
  },
  "language_info": {
   "codemirror_mode": {
    "name": "ipython",
    "version": 3
   },
   "file_extension": ".py",
   "mimetype": "text/x-python",
   "name": "python",
   "nbconvert_exporter": "python",
   "pygments_lexer": "ipython3",
   "version": "3.11.7"
  }
 },
 "nbformat": 4,
 "nbformat_minor": 5
}
