{
 "cells": [
  {
   "cell_type": "markdown",
   "id": "4f189a95-594f-4dfe-8249-6be7ec74c9f2",
   "metadata": {},
   "source": [
    "# Range Data Type\n",
    "  - In Python, the range data type represents an immutable sequence of numbers. It is commonly used for iterating over a sequence of numbers in loops, particularly in for loops. The range type generates numbers on-the-fly, rather than storing them all in memory, making it memory efficient for large ranges.\n",
    "  - The syntax for creating a range object is:\n",
    "    - range(start, stop, step)\n",
    "      - start: The starting value of the range (inclusive). If omitted, it defaults to 0.\n",
    "      - stop: The ending value of the range (exclusive). This is the first value that is not included in the range.\n",
    "      - step: The increment (or decrement if negative) between each number in the range. If omitted, it defaults to 1.ults to 1.ponentiation."
   ]
  },
  {
   "cell_type": "markdown",
   "id": "838b8748-d18b-45c8-bbb3-1f66d8cc9496",
   "metadata": {},
   "source": [
    "### Common Operations with Range"
   ]
  },
  {
   "cell_type": "markdown",
   "id": "7b9c1525-ede7-4b5a-b233-358dc2e81007",
   "metadata": {},
   "source": [
    "- Iterating Over Range :"
   ]
  },
  {
   "cell_type": "code",
   "execution_count": 11,
   "id": "5337331c-5a31-429e-b26b-b4f556e3aa28",
   "metadata": {},
   "outputs": [
    {
     "name": "stdout",
     "output_type": "stream",
     "text": [
      "0\n",
      "1\n",
      "2\n",
      "3\n",
      "4\n"
     ]
    }
   ],
   "source": [
    "for i in range(5):\n",
    "    print(i) #Prints number from 0 to 4"
   ]
  },
  {
   "cell_type": "markdown",
   "id": "d3ecefff-1652-491a-9fbe-df3493b10790",
   "metadata": {},
   "source": [
    "- Converting Range to List :"
   ]
  },
  {
   "cell_type": "code",
   "execution_count": 13,
   "id": "8e27cd79-5d3a-4d1b-b015-5459bdb5d828",
   "metadata": {},
   "outputs": [
    {
     "name": "stdout",
     "output_type": "stream",
     "text": [
      "[0, 1, 2, 3, 4]\n"
     ]
    }
   ],
   "source": [
    "my_list = list(range(5)) #Creates a list [0,1,2,3,4]\n",
    "\n",
    "print(my_list)"
   ]
  },
  {
   "cell_type": "markdown",
   "id": "e273797f-542a-499e-8d34-89ab3e20020a",
   "metadata": {},
   "source": [
    "- Checking for Membership :"
   ]
  },
  {
   "cell_type": "code",
   "execution_count": 17,
   "id": "b8addbe1-677e-4bcf-a072-f355f6967495",
   "metadata": {},
   "outputs": [
    {
     "name": "stdout",
     "output_type": "stream",
     "text": [
      "True\n"
     ]
    }
   ],
   "source": [
    "is_present = 3 in range(5) #Checks if 3 is present in the range\n",
    "\n",
    "print(is_present)"
   ]
  },
  {
   "cell_type": "markdown",
   "id": "1b16eeff-70a0-4bff-95d0-0115d6a3d505",
   "metadata": {},
   "source": [
    "- Length of Range :"
   ]
  },
  {
   "cell_type": "code",
   "execution_count": 18,
   "id": "b83c98cf-ac71-4431-8f1c-9bf832cd6d93",
   "metadata": {},
   "outputs": [
    {
     "name": "stdout",
     "output_type": "stream",
     "text": [
      "5\n"
     ]
    }
   ],
   "source": [
    "length = len(range(5)) #Returns the length of the range, which is 5\n",
    "\n",
    "print(length)"
   ]
  },
  {
   "cell_type": "markdown",
   "id": "b0ddf345-8c17-439e-8332-3aef8441c5ac",
   "metadata": {},
   "source": [
    "- Slicing (Partial Ranges) :"
   ]
  },
  {
   "cell_type": "code",
   "execution_count": 19,
   "id": "c797fa4e-7c0d-4032-95e2-b29bd04d2e6e",
   "metadata": {},
   "outputs": [
    {
     "name": "stdout",
     "output_type": "stream",
     "text": [
      "range(3, 7)\n"
     ]
    }
   ],
   "source": [
    "partial_range = range(1,10)[2:6] #Creates a range from 3 to 8\n",
    "\n",
    "print(partial_range)"
   ]
  },
  {
   "cell_type": "code",
   "execution_count": null,
   "id": "d5c0f9da-43d5-4b85-93a7-e76aa7a1ebbc",
   "metadata": {},
   "outputs": [],
   "source": []
  }
 ],
 "metadata": {
  "kernelspec": {
   "display_name": "Python 3 (ipykernel)",
   "language": "python",
   "name": "python3"
  },
  "language_info": {
   "codemirror_mode": {
    "name": "ipython",
    "version": 3
   },
   "file_extension": ".py",
   "mimetype": "text/x-python",
   "name": "python",
   "nbconvert_exporter": "python",
   "pygments_lexer": "ipython3",
   "version": "3.11.7"
  }
 },
 "nbformat": 4,
 "nbformat_minor": 5
}
