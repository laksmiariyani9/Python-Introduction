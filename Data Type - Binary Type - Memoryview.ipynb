{
 "cells": [
  {
   "cell_type": "markdown",
   "id": "bb44af45-0898-46cd-840b-f2f088027e0f",
   "metadata": {},
   "source": [
    "# Memoryview Data Type\n",
    "  - In Python, the memoryview data type provides a way to access the internal data of an object that supports the buffer protocol. It allows you to view the memory of an object without making a copy of it. This can be particularly useful when working with large amounts of data or when you want to avoid unnecessary memory duplication.\n",
    "  - The memoryview object acts as a view into the memory of another object, such as a bytes, bytearray, or even a list. It allows you to access and manipulate the underlying data using slicing, indexing, and other operations.\n",
    "  - You can create a memoryview object by passing an object that supports the buffer protocol to the memoryview() constructor. Here's an example:\n",
    "    - my_bytes = b'hello'\n",
    "    - my_memoryview = memoryview(my_bytes)\n",
    "        - In this example, my_memoryview is a memoryview object that provides a view into the memory of the my_bytes object."
   ]
  },
  {
   "cell_type": "markdown",
   "id": "f68a80d3-467a-4b5c-a89b-6de0d1611046",
   "metadata": {},
   "source": [
    "#### Memoryview objects support various operations and methods for accessing and manipulating the underlying data, including :"
   ]
  },
  {
   "cell_type": "markdown",
   "id": "f008e717-52cb-469c-934e-fe7b0a6b9db2",
   "metadata": {},
   "source": [
    "- Indexing: Accessing individual elements using index notation."
   ]
  },
  {
   "cell_type": "code",
   "execution_count": 1,
   "id": "6e78ff3e-8441-4d9f-a22b-cf9bb8038b3e",
   "metadata": {},
   "outputs": [
    {
     "name": "stdout",
     "output_type": "stream",
     "text": [
      "104\n"
     ]
    }
   ],
   "source": [
    "my_bytes = b'hello'\n",
    "my_memoryview = memoryview(my_bytes)\n",
    "\n",
    "print(my_memoryview[0]) #Accesses the first element of the memoryview object"
   ]
  },
  {
   "cell_type": "markdown",
   "id": "32dad30a-b83f-4837-95af-209cd39da7f6",
   "metadata": {},
   "source": [
    "- Slicing: Extracting a portion of the memoryview object."
   ]
  },
  {
   "cell_type": "code",
   "execution_count": 3,
   "id": "b4092b0c-d6a7-465e-aaf3-f1d2d952a094",
   "metadata": {},
   "outputs": [
    {
     "name": "stdout",
     "output_type": "stream",
     "text": [
      "<memory at 0x000001A1DC232140>\n"
     ]
    }
   ],
   "source": [
    "my_bytes = b'hello'\n",
    "my_memoryview = memoryview(my_bytes)\n",
    "\n",
    "print(my_memoryview[1:4]) #Extracts elements from index 1 to 3 (exclusives)"
   ]
  },
  {
   "cell_type": "markdown",
   "id": "4a0de89e-548a-47e0-a622-be5ce728b085",
   "metadata": {},
   "source": [
    "- Length: Getting the length of the memoryview object."
   ]
  },
  {
   "cell_type": "code",
   "execution_count": 4,
   "id": "e79eed61-8616-459e-af31-ed75dc724927",
   "metadata": {},
   "outputs": [
    {
     "name": "stdout",
     "output_type": "stream",
     "text": [
      "5\n"
     ]
    }
   ],
   "source": [
    "my_bytes = b'hello'\n",
    "my_memoryview = memoryview(my_bytes)\n",
    "\n",
    "print(len(my_memoryview)) #Prints the number of elements in the memoryview object"
   ]
  },
  {
   "cell_type": "markdown",
   "id": "bc265129-7573-4db2-96a2-9647f9898e8c",
   "metadata": {},
   "source": [
    "- Conversion to Bytes: Converting the memoryview object to bytes."
   ]
  },
  {
   "cell_type": "code",
   "execution_count": 5,
   "id": "fa5e4ec8-cbf3-46d7-bd41-1063728de97d",
   "metadata": {},
   "outputs": [
    {
     "name": "stdout",
     "output_type": "stream",
     "text": [
      "b'hello'\n"
     ]
    }
   ],
   "source": [
    "my_bytes = b'hello'\n",
    "my_memoryview = memoryview(my_bytes)\n",
    "my_bytes = bytes(my_memoryview) #Converts the memoryview object to bytes\n",
    "\n",
    "print(my_bytes)"
   ]
  },
  {
   "cell_type": "markdown",
   "id": "9a66dbf3-6b0c-4a83-85e7-02d6cce1742f",
   "metadata": {},
   "source": [
    "- Accessing Buffer Info: Getting information about the underlying buffer."
   ]
  },
  {
   "cell_type": "code",
   "execution_count": 6,
   "id": "b1c30b97-4014-4d2e-91c4-0e75acf83efa",
   "metadata": {},
   "outputs": [
    {
     "name": "stdout",
     "output_type": "stream",
     "text": [
      "5\n",
      "<attribute 'format' of 'memoryview' objects>\n"
     ]
    }
   ],
   "source": [
    "my_bytes = b'hello'\n",
    "my_memoryview = memoryview(my_bytes)\n",
    "\n",
    "print(my_memoryview.nbytes) #Prints the number of bytes in the underlying buffer\n",
    "print(memoryview.format) #Prints the format of the underlying buffer"
   ]
  }
 ],
 "metadata": {
  "kernelspec": {
   "display_name": "Python 3 (ipykernel)",
   "language": "python",
   "name": "python3"
  },
  "language_info": {
   "codemirror_mode": {
    "name": "ipython",
    "version": 3
   },
   "file_extension": ".py",
   "mimetype": "text/x-python",
   "name": "python",
   "nbconvert_exporter": "python",
   "pygments_lexer": "ipython3",
   "version": "3.11.7"
  }
 },
 "nbformat": 4,
 "nbformat_minor": 5
}
