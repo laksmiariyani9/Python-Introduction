{
 "cells": [
  {
   "cell_type": "markdown",
   "id": "16c40b13-72a1-42ab-9fd7-e4133919931c",
   "metadata": {},
   "source": [
    "# Slicing\n",
    " - In Python, slicing is a technique used to extract a portion (or a slice) of a sequence-like data type such as strings, lists, tuples, etc. Slicing allows you to retrieve a subset of elements from the original sequence based on specified start and stop indices.\n",
    " - The syntax for slicing in Python is:\n",
    "   - sequence[start:stop:step]\n",
    "     - 'start': The Index representing the beginning of the slice(inclusive). If omitted slicing starts from the beginning of the sequence.\n",
    "     - 'stop' : The index representing the end of the slice (exclusive). If omitted, slicing goes until the end of the sequence.\n",
    "     - 'step' : The step size used to skip elements. If omitted, the default value is 1."
   ]
  },
  {
   "cell_type": "markdown",
   "id": "654bec5c-04ad-4349-9606-d2d2f7594cee",
   "metadata": {},
   "source": [
    "### Here are some examples to illustrate slicing:"
   ]
  },
  {
   "cell_type": "markdown",
   "id": "7a10fc04-1384-45b2-adb3-09008b288a40",
   "metadata": {},
   "source": [
    "- Slicing a String:"
   ]
  },
  {
   "cell_type": "code",
   "execution_count": 3,
   "id": "961ebfe2-e10f-4b97-b480-f574dc02e3bc",
   "metadata": {},
   "outputs": [
    {
     "name": "stdout",
     "output_type": "stream",
     "text": [
      "World\n"
     ]
    }
   ],
   "source": [
    "text = \"Hello, World!\"\n",
    "subset = text[7:12] #Extracts \"World\"\n",
    "\n",
    "print(subset)"
   ]
  },
  {
   "cell_type": "markdown",
   "id": "936e8168-c615-4315-9925-9b68f2263fa0",
   "metadata": {},
   "source": [
    "- Slicing a List:"
   ]
  },
  {
   "cell_type": "code",
   "execution_count": 4,
   "id": "c4902efe-7e18-4e42-b2e4-1e30b772653f",
   "metadata": {},
   "outputs": [
    {
     "name": "stdout",
     "output_type": "stream",
     "text": [
      "[2, 3, 4]\n"
     ]
    }
   ],
   "source": [
    "numbers = [1,2,3,4,5]\n",
    "subset = numbers[1:4] #Extracts [2,3,4]\n",
    "\n",
    "print(subset)"
   ]
  },
  {
   "cell_type": "markdown",
   "id": "bd14d90f-ae45-442a-9251-8e623dad1a00",
   "metadata": {},
   "source": [
    "- Slicing with Negative Indices:"
   ]
  },
  {
   "cell_type": "code",
   "execution_count": 10,
   "id": "c38d9842-763e-4f2e-9141-e4e6a53720d9",
   "metadata": {},
   "outputs": [
    {
     "name": "stdout",
     "output_type": "stream",
     "text": [
      "World\n"
     ]
    }
   ],
   "source": [
    "text = \"Hello, World!\"\n",
    "subset = text[-6:-1] #Extracts \"World\"\n",
    "\n",
    "print(subset)"
   ]
  },
  {
   "cell_type": "markdown",
   "id": "206bba08-e6c1-4bb9-8432-338130b2898a",
   "metadata": {},
   "source": [
    "- Slicing with a Step;"
   ]
  },
  {
   "cell_type": "code",
   "execution_count": 11,
   "id": "3b21b73e-f3a1-4f23-8e3b-f4b822b29652",
   "metadata": {},
   "outputs": [
    {
     "name": "stdout",
     "output_type": "stream",
     "text": [
      "[1, 3, 5]\n"
     ]
    }
   ],
   "source": [
    "numbers = [1,2,3,4,5]\n",
    "subset = numbers[::2] #Extracts every second elemnts: [1,3,5]\n",
    "\n",
    "print(subset)"
   ]
  },
  {
   "cell_type": "markdown",
   "id": "90e10613-e93a-4d37-abeb-b622cf194f54",
   "metadata": {},
   "source": [
    "- Reversing a Sequence using Slicing:"
   ]
  },
  {
   "cell_type": "code",
   "execution_count": 12,
   "id": "7c8c9940-28ab-444e-82ed-6e8a5aba23a1",
   "metadata": {},
   "outputs": [
    {
     "name": "stdout",
     "output_type": "stream",
     "text": [
      "!dlroW ,olleH\n"
     ]
    }
   ],
   "source": [
    "text = \"Hello, World!\"\n",
    "reversed_text = text[::-1] #Reverses the string: \"!dlroW ,olleH\"\n",
    "\n",
    "print(reversed_text)"
   ]
  },
  {
   "cell_type": "code",
   "execution_count": null,
   "id": "28f94aee-eded-41d5-b816-dc26a7973737",
   "metadata": {},
   "outputs": [],
   "source": []
  }
 ],
 "metadata": {
  "kernelspec": {
   "display_name": "Python 3 (ipykernel)",
   "language": "python",
   "name": "python3"
  },
  "language_info": {
   "codemirror_mode": {
    "name": "ipython",
    "version": 3
   },
   "file_extension": ".py",
   "mimetype": "text/x-python",
   "name": "python",
   "nbconvert_exporter": "python",
   "pygments_lexer": "ipython3",
   "version": "3.11.7"
  }
 },
 "nbformat": 4,
 "nbformat_minor": 5
}
