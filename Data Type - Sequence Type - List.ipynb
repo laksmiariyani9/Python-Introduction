{
 "cells": [
  {
   "cell_type": "markdown",
   "id": "15d09b55-58aa-437f-818f-758cff297d23",
   "metadata": {},
   "source": [
    "# List Data Type\n",
    "  - In Python, the list data type ('list') is used to store a collection of items. Lists are ordered, mutable (modifiable), and allow duplicate elements. They are defined by enclosing a comma-separated sequence of items within square brackets [ ]."
   ]
  },
  {
   "cell_type": "markdown",
   "id": "253f5359-c18d-431b-bd0e-0213137a10c7",
   "metadata": {},
   "source": [
    "For Example : "
   ]
  },
  {
   "cell_type": "code",
   "execution_count": 16,
   "id": "31300673-8703-44c7-8e0e-a84bf585c7dd",
   "metadata": {},
   "outputs": [
    {
     "name": "stdout",
     "output_type": "stream",
     "text": [
      "[1, 2, 3, 4, 5]\n"
     ]
    }
   ],
   "source": [
    "my_list = [1,2,3,4,5]\n",
    "\n",
    "print(my_list)"
   ]
  },
  {
   "cell_type": "markdown",
   "id": "c94473bf-e504-40ce-a76e-eaf2cdc7b948",
   "metadata": {},
   "source": [
    "- Lists can contain elements of different data types, including integers, floats, strings, and even other lists."
   ]
  },
  {
   "cell_type": "markdown",
   "id": "2ae4e4d8-65b5-4bbf-a7af-f66f80a1e660",
   "metadata": {},
   "source": [
    "### Basic Operations on Lists :"
   ]
  },
  {
   "cell_type": "markdown",
   "id": "6d93def9-19a1-4980-b826-32957d0ceba8",
   "metadata": {},
   "source": [
    "- Slicing: You can extract a sublist from a list using slicing notation"
   ]
  },
  {
   "cell_type": "code",
   "execution_count": 5,
   "id": "a20f11ec-cc4b-4089-b50a-e2b485472566",
   "metadata": {},
   "outputs": [
    {
     "name": "stdout",
     "output_type": "stream",
     "text": [
      "[2, 3]\n"
     ]
    }
   ],
   "source": [
    "my_list = [1,2,3,4,5]\n",
    "sublist = my_list[1:3] #Ekstracts elements from index 1 to 2\n",
    "\n",
    "print(sublist)"
   ]
  },
  {
   "cell_type": "markdown",
   "id": "e672b050-90d2-458f-a3be-3b15ef88ce0e",
   "metadata": {},
   "source": [
    "- Appending and Extending: You can add elements to the end of a list using the 'append()' method or extend a list with another list using the 'extend()' method."
   ]
  },
  {
   "cell_type": "code",
   "execution_count": 8,
   "id": "110b2823-16e4-4ac9-b36a-e973d94a1bcb",
   "metadata": {},
   "outputs": [
    {
     "name": "stdout",
     "output_type": "stream",
     "text": [
      "[1, 2, 3, 4, 5, 6]\n"
     ]
    }
   ],
   "source": [
    "my_list = [1,2,3,4,5]\n",
    "my_list.append(6) #Appends 6 to the end of the list\n",
    "\n",
    "print(my_list)"
   ]
  },
  {
   "cell_type": "code",
   "execution_count": 9,
   "id": "458bad1a-81d0-4712-af02-bb3d79f01a28",
   "metadata": {},
   "outputs": [
    {
     "name": "stdout",
     "output_type": "stream",
     "text": [
      "[1, 2, 3, 4, 5, 7, 8]\n"
     ]
    }
   ],
   "source": [
    "my_list = [1,2,3,4,5]\n",
    "my_list.extend([7,8]) #Extends the list with elements [7,8]\n",
    "\n",
    "print(my_list)"
   ]
  },
  {
   "cell_type": "markdown",
   "id": "84e919dc-f70a-42e6-8ad6-97b1173d4afd",
   "metadata": {},
   "source": [
    "- Inserting: Inserting an element at a spesific position in the list."
   ]
  },
  {
   "cell_type": "code",
   "execution_count": 10,
   "id": "7f03f547-3a6b-4667-b153-f67e51999a87",
   "metadata": {},
   "outputs": [
    {
     "name": "stdout",
     "output_type": "stream",
     "text": [
      "[1, 2, 2.5, 3, 4, 5]\n"
     ]
    }
   ],
   "source": [
    "my_list = [1,2,3,4,5]\n",
    "my_list.insert(2, 2.5) #Inserts 2.5 at index 2\n",
    "\n",
    "print(my_list)"
   ]
  },
  {
   "cell_type": "markdown",
   "id": "f146b242-d709-4523-8ba7-80c602058617",
   "metadata": {},
   "source": [
    "- Removing and Popping: Removing elements from a list using 'remove()' or 'pop()' methods."
   ]
  },
  {
   "cell_type": "code",
   "execution_count": 11,
   "id": "35931694-cb5a-419c-b68d-909e4dceb400",
   "metadata": {},
   "outputs": [
    {
     "name": "stdout",
     "output_type": "stream",
     "text": [
      "[1, 2, 4, 5]\n"
     ]
    }
   ],
   "source": [
    "my_list = [1,2,3,4,5]\n",
    "my_list.remove(3) #Removes the first occurrence of 3\n",
    "\n",
    "print(my_list)"
   ]
  },
  {
   "cell_type": "code",
   "execution_count": 12,
   "id": "da15cf30-871c-4f7b-ab40-873755e9c45b",
   "metadata": {},
   "outputs": [
    {
     "name": "stdout",
     "output_type": "stream",
     "text": [
      "[1, 2, 3, 4]\n"
     ]
    }
   ],
   "source": [
    "my_list = [1,2,3,4,5]\n",
    "popped_element = my_list.pop(4) #Removes and returns the element at index 4\n",
    "\n",
    "print(my_list)"
   ]
  },
  {
   "cell_type": "markdown",
   "id": "d6210a6e-b846-4ecb-a03d-2b851559bac4",
   "metadata": {},
   "source": [
    "- List Comrehensions: Creating new lists by applying an expression to each item in an axisting list."
   ]
  },
  {
   "cell_type": "code",
   "execution_count": 14,
   "id": "fa6f24c1-177d-4d94-a130-a1b6fdb2c808",
   "metadata": {},
   "outputs": [
    {
     "name": "stdout",
     "output_type": "stream",
     "text": [
      "[0, 1, 4, 9, 16, 25, 36, 49, 64, 81]\n"
     ]
    }
   ],
   "source": [
    "squares = [x**2 for x in range(10)] #Creates a list of squares of numbers from 0 to 9\n",
    "\n",
    "print(squares)"
   ]
  },
  {
   "cell_type": "code",
   "execution_count": null,
   "id": "716fbaf8-06db-4f5f-b39a-f081e7c48b98",
   "metadata": {},
   "outputs": [],
   "source": []
  }
 ],
 "metadata": {
  "kernelspec": {
   "display_name": "Python 3 (ipykernel)",
   "language": "python",
   "name": "python3"
  },
  "language_info": {
   "codemirror_mode": {
    "name": "ipython",
    "version": 3
   },
   "file_extension": ".py",
   "mimetype": "text/x-python",
   "name": "python",
   "nbconvert_exporter": "python",
   "pygments_lexer": "ipython3",
   "version": "3.11.7"
  }
 },
 "nbformat": 4,
 "nbformat_minor": 5
}
