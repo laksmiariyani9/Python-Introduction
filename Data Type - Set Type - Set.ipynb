{
 "cells": [
  {
   "cell_type": "markdown",
   "id": "727be37c-3af6-47b6-8e6e-5efa89b8c622",
   "metadata": {},
   "source": [
    "# Set Data Type\n",
    "- In Python, a set is a collection data type that is unordered, mutable, and contains unique elements. Sets are defined by enclosing comma-separated values within curly braces {}. Sets do not allow duplicate elements, and they automatically remove any duplicates when the set is created or modified. Here's a basic example of a set:\n",
    "    - my_set = {1,2,3,4,5}\n",
    "- Sets can contain elements of different data types, including integers, floats, strings, and even tuples. For example:\n",
    "    - mixed_set = {1, \"apple\", 3.14, (5,6)}\n",
    "- Key Features of Sets:\n",
    "    - Unordered: Sets do not maintain the order of elements as they are added.\n",
    "    - Mutable: You can add or remove elements from a set after it is created.\n",
    "    - Unique Elements: Sets do not allow duplicate elements. If you try to add a duplicate element to a set, it will be ignored."
   ]
  },
  {
   "cell_type": "markdown",
   "id": "440b7d27-9dd7-461d-b5ee-80a94f247816",
   "metadata": {},
   "source": [
    "### Common Operations on Sets:"
   ]
  },
  {
   "cell_type": "markdown",
   "id": "e28c45bc-c7be-46c5-a137-d1fda2f8d5e0",
   "metadata": {},
   "source": [
    "- Adding Elements: You can add elements to a set using the'add()' method."
   ]
  },
  {
   "cell_type": "code",
   "execution_count": 1,
   "id": "96737709-a5f5-4c28-9672-deeab0fb6328",
   "metadata": {},
   "outputs": [
    {
     "name": "stdout",
     "output_type": "stream",
     "text": [
      "{1, 2, 3, 4, 5, 6}\n"
     ]
    }
   ],
   "source": [
    "my_set = {1,2,3,4,5}\n",
    "my_set.add(6) # Adds element 6 to the set\n",
    "\n",
    "print(my_set)"
   ]
  },
  {
   "cell_type": "markdown",
   "id": "60eca4ca-e8a3-4593-a333-751f8140b3b4",
   "metadata": {},
   "source": [
    "- Remoding Elements: You can remove elements from a set using the 'remove()' or 'discard()' method. "
   ]
  },
  {
   "cell_type": "code",
   "execution_count": 2,
   "id": "335e2ed2-e54a-49f1-85b3-aeec73cdb299",
   "metadata": {},
   "outputs": [
    {
     "name": "stdout",
     "output_type": "stream",
     "text": [
      "{1, 2, 4, 5}\n"
     ]
    }
   ],
   "source": [
    "my_set = {1,2,3,4,5}\n",
    "my_set.remove(3) # Removes element 3 from the set\n",
    "\n",
    "print(my_set)"
   ]
  },
  {
   "cell_type": "markdown",
   "id": "45d09bb6-4a97-48c3-ab72-47a2b09e2913",
   "metadata": {},
   "source": [
    "- Union, Intersection, Difference: Sets support operations such as union('|'), intersection('&'), and difference('-') for combining or comparing sets."
   ]
  },
  {
   "cell_type": "code",
   "execution_count": 3,
   "id": "a2cd6970-d31d-4431-a9b4-3762c2319999",
   "metadata": {},
   "outputs": [
    {
     "name": "stdout",
     "output_type": "stream",
     "text": [
      "{1, 2, 3, 4, 5}\n",
      "{3}\n",
      "{1, 2}\n"
     ]
    }
   ],
   "source": [
    "set1 = {1,2,3}\n",
    "set2 = {3,4,5}\n",
    "union_set = set1 | set2 #Union of set1 and set2\n",
    "intersection_set = set1 & set2 #Intersection of set1 and set2\n",
    "difference_set = set1 - set2 #Difference of set1 and set2\n",
    "\n",
    "print(union_set)\n",
    "print(intersection_set)\n",
    "print(difference_set)"
   ]
  },
  {
   "cell_type": "markdown",
   "id": "7d37a20f-1208-40ad-8780-cccb46ffe4c5",
   "metadata": {},
   "source": [
    "- Membership Test: You can check if an element is present in a set using the 'in' keyword."
   ]
  },
  {
   "cell_type": "code",
   "execution_count": 4,
   "id": "471cc5b9-7ded-4eba-940c-f64249dff727",
   "metadata": {},
   "outputs": [
    {
     "name": "stdout",
     "output_type": "stream",
     "text": [
      "True\n"
     ]
    }
   ],
   "source": [
    "my_set = {1,2,3,4,5}\n",
    "is_present = 3 in my_set #Checks if 3 is present in the set\n",
    "\n",
    "print(is_present)"
   ]
  }
 ],
 "metadata": {
  "kernelspec": {
   "display_name": "Python 3 (ipykernel)",
   "language": "python",
   "name": "python3"
  },
  "language_info": {
   "codemirror_mode": {
    "name": "ipython",
    "version": 3
   },
   "file_extension": ".py",
   "mimetype": "text/x-python",
   "name": "python",
   "nbconvert_exporter": "python",
   "pygments_lexer": "ipython3",
   "version": "3.11.7"
  }
 },
 "nbformat": 4,
 "nbformat_minor": 5
}
