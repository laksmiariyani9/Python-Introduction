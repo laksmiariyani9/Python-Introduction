{
 "cells": [
  {
   "cell_type": "markdown",
   "id": "d814236d-b53c-4cde-8ea4-6bf5e49cf5c4",
   "metadata": {},
   "source": [
    "## String Data Type\n",
    "  - In Python, the string data type (str) is used to represent textual data. Strings are sequences of characters enclosed within either single quotes (') or double quotes (\").\n",
    "  - Strings can contain letters, numbers, symbols, and whitespace characters. They support various operations and methods for manipulation and formatting."
   ]
  },
  {
   "cell_type": "markdown",
   "id": "2ed16ab0-7a9d-493f-8dc9-eb3848b65030",
   "metadata": {},
   "source": [
    "The Syntax :"
   ]
  },
  {
   "cell_type": "code",
   "execution_count": 9,
   "id": "9e9e6c3a-d6b6-42b7-ab28-869e9fe73439",
   "metadata": {},
   "outputs": [
    {
     "name": "stdout",
     "output_type": "stream",
     "text": [
      "Hello, World\n"
     ]
    }
   ],
   "source": [
    "my_string = \"Hello, World\"\n",
    "\n",
    "print(my_string)"
   ]
  },
  {
   "cell_type": "markdown",
   "id": "56e27a62-f844-44bf-906b-9664a1391b93",
   "metadata": {},
   "source": [
    "Example :"
   ]
  },
  {
   "cell_type": "code",
   "execution_count": 1,
   "id": "28a18194-18b3-43a2-9575-05c4239d3b05",
   "metadata": {},
   "outputs": [
    {
     "name": "stdout",
     "output_type": "stream",
     "text": [
      "Hello\n",
      " \n",
      "Hello\n"
     ]
    }
   ],
   "source": [
    "a = \"Hello\"\n",
    "print(a)\n",
    "print(\" \")\n",
    "\n",
    "b = 'Hello'\n",
    "print(b)"
   ]
  },
  {
   "cell_type": "code",
   "execution_count": 4,
   "id": "15b04d24-ee51-4a60-82ec-e7008adadf5d",
   "metadata": {},
   "outputs": [
    {
     "name": "stdout",
     "output_type": "stream",
     "text": [
      "Bootcamp Data Analyst\n",
      "Kampus Merdeka x MyEduSolve\n",
      "Kelas B\n"
     ]
    }
   ],
   "source": [
    "a = \"\"\"Bootcamp Data Analyst\n",
    "Kampus Merdeka x MyEduSolve\n",
    "Kelas B\"\"\"\n",
    "\n",
    "print(a)"
   ]
  },
  {
   "cell_type": "code",
   "execution_count": 5,
   "id": "d9b0e7e9-6ef2-4854-a636-f548465fe843",
   "metadata": {},
   "outputs": [
    {
     "name": "stdout",
     "output_type": "stream",
     "text": [
      "Bootcamp Data Analyst \n",
      "Kampus Merdeka x MyEduSolve \n",
      "Kelas B.\n"
     ]
    }
   ],
   "source": [
    "a = \"\"\"Bootcamp Data Analyst \\nKampus Merdeka x MyEduSolve \\nKelas B.\"\"\"\n",
    "\n",
    "print(a)"
   ]
  },
  {
   "cell_type": "code",
   "execution_count": 6,
   "id": "7ccd6d7d-bca8-4838-809d-b0f0ed855699",
   "metadata": {},
   "outputs": [
    {
     "name": "stdout",
     "output_type": "stream",
     "text": [
      "Hello, Alice!\n"
     ]
    }
   ],
   "source": [
    "greeting = \"Hello\"\n",
    "name = \"Alice\"\n",
    "message = greeting + \", \" + name + \"!\"\n",
    "\n",
    "print(message)"
   ]
  },
  {
   "cell_type": "code",
   "execution_count": null,
   "id": "29fa6a79-8499-4504-8d62-69e2c4bd1102",
   "metadata": {},
   "outputs": [],
   "source": []
  }
 ],
 "metadata": {
  "kernelspec": {
   "display_name": "Python 3 (ipykernel)",
   "language": "python",
   "name": "python3"
  },
  "language_info": {
   "codemirror_mode": {
    "name": "ipython",
    "version": 3
   },
   "file_extension": ".py",
   "mimetype": "text/x-python",
   "name": "python",
   "nbconvert_exporter": "python",
   "pygments_lexer": "ipython3",
   "version": "3.11.7"
  }
 },
 "nbformat": 4,
 "nbformat_minor": 5
}
