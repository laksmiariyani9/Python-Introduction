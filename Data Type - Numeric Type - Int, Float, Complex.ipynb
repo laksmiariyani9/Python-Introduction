{
 "cells": [
  {
   "cell_type": "markdown",
   "id": "afbd5ec2-8bbd-4dd5-9b7a-50348fb4f2bc",
   "metadata": {},
   "source": [
    "# PYTHON DATA TYPES\n",
    "A data type is an attribute associated with a piece of data that tells a computer system how to interpret its value. Python Data Types are used to define the type of a variable. It defines what type of data we are going to store in a variable. The data stored in memory can be of many types."
   ]
  },
  {
   "cell_type": "markdown",
   "id": "cf8c546a-54f1-4272-8c1e-bd521255a6d5",
   "metadata": {},
   "source": [
    "## Number Data Type\n",
    "- In Python, the \"number type\" refers to the data types used to represent numeric values. There are several numeric data types in Python:\n",
    "    - Integer (int): Represents whole numbers without any decimal point. For example, 5, -10, 100, etc.\n",
    "    - Floating-point (float): Represents numbers with a decimal point or in exponential form. For example, 3.14, -0.001, 2.71828, etc.\n",
    "    - Complex: Represents complex numbers with real and imaginary parts. It's represented as a + bj, where a and b are floats and j is the imaginary unit (sqrt(-1)). For example, 2 + 3j, -1 - 2j, etc."
   ]
  },
  {
   "cell_type": "markdown",
   "id": "87e48ce5-e9d6-4427-8c53-148573a34378",
   "metadata": {},
   "source": [
    "- Example :"
   ]
  },
  {
   "cell_type": "code",
   "execution_count": 1,
   "id": "c8d6b9ed-e427-4f60-946c-584471f0d8da",
   "metadata": {},
   "outputs": [
    {
     "data": {
      "text/plain": [
       "int"
      ]
     },
     "execution_count": 1,
     "metadata": {},
     "output_type": "execute_result"
    }
   ],
   "source": [
    "# int\n",
    "a = 10\n",
    "\n",
    "type(a)"
   ]
  },
  {
   "cell_type": "code",
   "execution_count": 2,
   "id": "846b3af2-02b5-4316-a278-3b92bc29931a",
   "metadata": {},
   "outputs": [
    {
     "data": {
      "text/plain": [
       "float"
      ]
     },
     "execution_count": 2,
     "metadata": {},
     "output_type": "execute_result"
    }
   ],
   "source": [
    "# float\n",
    "a = 6.5\n",
    "\n",
    "type (a)"
   ]
  },
  {
   "cell_type": "code",
   "execution_count": 3,
   "id": "e0c84ce1-5535-451e-8fce-33667dfd1bd4",
   "metadata": {},
   "outputs": [
    {
     "name": "stdout",
     "output_type": "stream",
     "text": [
      "<class 'int'>\n",
      "<class 'float'>\n"
     ]
    }
   ],
   "source": [
    "# int vs float\n",
    "x = 10\n",
    "y = 10.0\n",
    "\n",
    "print (type(x))\n",
    "print (type(y))"
   ]
  },
  {
   "cell_type": "code",
   "execution_count": 5,
   "id": "2e6c9f82-c321-4909-a154-7b9fb1aad24f",
   "metadata": {},
   "outputs": [
    {
     "data": {
      "text/plain": [
       "complex"
      ]
     },
     "execution_count": 5,
     "metadata": {},
     "output_type": "execute_result"
    }
   ],
   "source": [
    "# complex\n",
    "c = 1 + 2j\n",
    "\n",
    "type(c)"
   ]
  },
  {
   "cell_type": "code",
   "execution_count": null,
   "id": "04e8de8b-32a0-4e6e-a136-db1a51922cfc",
   "metadata": {},
   "outputs": [],
   "source": []
  }
 ],
 "metadata": {
  "kernelspec": {
   "display_name": "Python 3 (ipykernel)",
   "language": "python",
   "name": "python3"
  },
  "language_info": {
   "codemirror_mode": {
    "name": "ipython",
    "version": 3
   },
   "file_extension": ".py",
   "mimetype": "text/x-python",
   "name": "python",
   "nbconvert_exporter": "python",
   "pygments_lexer": "ipython3",
   "version": "3.11.7"
  }
 },
 "nbformat": 4,
 "nbformat_minor": 5
}
