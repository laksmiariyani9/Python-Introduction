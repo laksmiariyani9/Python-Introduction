{
 "cells": [
  {
   "cell_type": "markdown",
   "id": "ac0711a3-76f1-4e8a-a166-6c67c0924c63",
   "metadata": {},
   "source": [
    "# Frozenset Data Type\n",
    "  - In Python, the frozenset data type is similar to the set data type, but with one key difference: it is immutable. This means that once a frozenset object is created, its contents cannot be changed.\n",
    "  - Frozenset objects are useful when you need to create a collection of unique, immutable elements. They are particularly handy when you need to use sets as keys in dictionaries or as elements in other sets, as sets themselves are not hashable (mutable), but frozensets are hashable (immutable).\n",
    "  - Here's how you create a frozenset object:\n",
    "    - my_frozenset = frozenset({1, 2, 3, 4, 5})\n",
    "  - You can also create a frozenset from other iterables like lists or tuples:\n",
    "    - my_frozenset = frozenset([1, 2, 3, 4, 5])\n",
    "    - my_frozenset = frozenset((1, 2, 3, 4, 5))"
   ]
  },
  {
   "cell_type": "markdown",
   "id": "34e67dc5-fde1-4ddd-b822-555817b13ebd",
   "metadata": {},
   "source": [
    "### Common Operations with Frozensets"
   ]
  },
  {
   "cell_type": "markdown",
   "id": "19e438f2-efa1-4180-99d2-4a978d482c4e",
   "metadata": {},
   "source": [
    "- Accessing Elements: Since frozensets are similar to sets, you can use them to check for membership"
   ]
  },
  {
   "cell_type": "code",
   "execution_count": 2,
   "id": "6ce38f1c-16cd-4e57-8d1a-e2068a3ea5bb",
   "metadata": {},
   "outputs": [
    {
     "name": "stdout",
     "output_type": "stream",
     "text": [
      "frozenset({1, 2, 3, 4, 5})\n",
      "True\n"
     ]
    }
   ],
   "source": [
    "my_frozenset = frozenset({1,2,3,4,5})\n",
    "is_present = 3 in my_frozenset\n",
    "\n",
    "print(my_frozenset)\n",
    "print(is_present)"
   ]
  },
  {
   "cell_type": "markdown",
   "id": "ca8cab81-7246-4767-84a2-ab1c0fdbe9a3",
   "metadata": {},
   "source": [
    "- Iteration: You can iterate over the elements of a frozenset"
   ]
  },
  {
   "cell_type": "code",
   "execution_count": 3,
   "id": "a0cbda4a-9ec8-4bec-9573-75a356796522",
   "metadata": {},
   "outputs": [
    {
     "name": "stdout",
     "output_type": "stream",
     "text": [
      "1\n",
      "2\n",
      "3\n",
      "4\n",
      "5\n"
     ]
    }
   ],
   "source": [
    "my_frozenset = frozenset({1,2,3,4,5})\n",
    "for element in my_frozenset:\n",
    "    print(element)"
   ]
  },
  {
   "cell_type": "markdown",
   "id": "bdc823b9-5984-4a1b-a144-440a64833743",
   "metadata": {},
   "source": [
    "- Operations: Frozensets support set operations such as union, intersection, and difference, but they return new frozensets objects"
   ]
  },
  {
   "cell_type": "code",
   "execution_count": 4,
   "id": "4409368e-cfd9-42ed-9080-d30633f56339",
   "metadata": {},
   "outputs": [
    {
     "name": "stdout",
     "output_type": "stream",
     "text": [
      "frozenset({1, 2, 3, 4, 5})\n",
      "frozenset({3})\n",
      "frozenset({1, 2})\n"
     ]
    }
   ],
   "source": [
    "frozenset1 = frozenset({1,2,3})\n",
    "frozenset2 = frozenset({3,4,5})\n",
    "union = frozenset1 | frozenset2\n",
    "intersection = frozenset1 & frozenset2\n",
    "difference = frozenset1 - frozenset2\n",
    "\n",
    "print(union)\n",
    "print(intersection)\n",
    "print(difference)"
   ]
  }
 ],
 "metadata": {
  "kernelspec": {
   "display_name": "Python 3 (ipykernel)",
   "language": "python",
   "name": "python3"
  },
  "language_info": {
   "codemirror_mode": {
    "name": "ipython",
    "version": 3
   },
   "file_extension": ".py",
   "mimetype": "text/x-python",
   "name": "python",
   "nbconvert_exporter": "python",
   "pygments_lexer": "ipython3",
   "version": "3.11.7"
  }
 },
 "nbformat": 4,
 "nbformat_minor": 5
}
