{
 "cells": [
  {
   "cell_type": "markdown",
   "id": "fc9492a2-3e0c-4a90-aab1-82dba0fc4853",
   "metadata": {},
   "source": [
    "# Tuple\n",
    "- In Python, a tuple is a collection data type that is ordered and immutable. This means once a tuple is created, you cannot change its content (i.e., you cannot add, remove, or modify elements). Tuples are defined by enclosing comma-separated values within parentheses (). Here's a basic example of a tuple:\n",
    "    - my_tuple = (1,2,3,4,5)\n",
    "- Tuples can contain elements of different data types, including integers, floats, strings, and even other tuples. For example:\n",
    "    - mixed_tuple = (1, \"apple\", 3.14, (5,6))\n",
    "- Key Features of Tuples:\n",
    "    - Ordered: Tuples maintain the order of elements as they are added.\n",
    "    - Immutable: Once a tuple is created, its contents cannot be changed. This means you cannot add, remove, or modify elements in a tuple."
   ]
  },
  {
   "cell_type": "markdown",
   "id": "0a92f4de-9de1-4b05-9655-09f158efccdc",
   "metadata": {},
   "source": [
    "### Common Operations on Tuples:"
   ]
  },
  {
   "cell_type": "markdown",
   "id": "1aa30ffb-6d97-4472-bd88-05d4993dc5d9",
   "metadata": {},
   "source": [
    "- Accesing Elements: Element in a tuple can be accessed using index numbers, similar to lists."
   ]
  },
  {
   "cell_type": "code",
   "execution_count": 2,
   "id": "28186377-224c-4b34-bc27-d7c7d8e38fa2",
   "metadata": {},
   "outputs": [
    {
     "name": "stdout",
     "output_type": "stream",
     "text": [
      "1\n"
     ]
    }
   ],
   "source": [
    "my_tuple = (1,2,3,4,5)\n",
    "first_element = my_tuple[0] #Accessing the first element\n",
    "\n",
    "print(first_element)"
   ]
  },
  {
   "cell_type": "markdown",
   "id": "9cadc0b3-2b60-4b72-8c1e-ce1611b2024a",
   "metadata": {},
   "source": [
    "- Slicing: Yo can extract a sub-tuple from using slicing notation."
   ]
  },
  {
   "cell_type": "code",
   "execution_count": 5,
   "id": "2b48a7ca-ab64-4091-8d51-76fc33eafe43",
   "metadata": {},
   "outputs": [
    {
     "name": "stdout",
     "output_type": "stream",
     "text": [
      "(2, 3)\n"
     ]
    }
   ],
   "source": [
    "my_tuple = (1,2,3,4,5)\n",
    "subtuple = my_tuple[1:3] # Extracs elements from index 1 to 2\n",
    "\n",
    "print(subtuple)"
   ]
  },
  {
   "cell_type": "markdown",
   "id": "c8299c8e-5fad-4243-96d2-0f4ce9961a71",
   "metadata": {},
   "source": [
    "- Length: Finding the length of a tuple."
   ]
  },
  {
   "cell_type": "code",
   "execution_count": 4,
   "id": "3be05034-e1f7-4272-b6a0-2cd8f6c83c39",
   "metadata": {},
   "outputs": [
    {
     "name": "stdout",
     "output_type": "stream",
     "text": [
      "5\n"
     ]
    }
   ],
   "source": [
    "my_tuple + (1,2,3,4,5)\n",
    "length = len(my_tuple) # Length of the tuple\n",
    "\n",
    "print(length)"
   ]
  },
  {
   "cell_type": "markdown",
   "id": "9a2cf9ac-260a-4564-973d-e13d9c509800",
   "metadata": {},
   "source": [
    "- Tuple Packing and Unpacking: You can pack multiple values into a tuple and the unpack the into separate variables."
   ]
  },
  {
   "cell_type": "code",
   "execution_count": 6,
   "id": "d1f02145-3d9f-495a-beca-1df75da97bc5",
   "metadata": {},
   "outputs": [
    {
     "name": "stdout",
     "output_type": "stream",
     "text": [
      "10 20\n"
     ]
    }
   ],
   "source": [
    "coordinates = (10, 20)\n",
    "x, y = coordinates # Unpacking the tuple into variables\n",
    "\n",
    "print(x, y)"
   ]
  },
  {
   "cell_type": "markdown",
   "id": "e5652f84-28d5-42df-ab0a-102d903e1b89",
   "metadata": {},
   "source": [
    "- Tuple Concatenation;: You can concatenate two tuples to create a new tuple."
   ]
  },
  {
   "cell_type": "code",
   "execution_count": 7,
   "id": "e187e97e-7474-4d70-8297-2e5fa9637bf0",
   "metadata": {},
   "outputs": [
    {
     "name": "stdout",
     "output_type": "stream",
     "text": [
      "(1, 2, 3, 4, 5, 6)\n"
     ]
    }
   ],
   "source": [
    "tuple1 = (1,2,3)\n",
    "tuple2 = (4,5,6)\n",
    "concatenated_tuple = tuple1 + tuple2 # Concatenates two tuples\n",
    "\n",
    "print(concatenated_tuple)"
   ]
  },
  {
   "cell_type": "code",
   "execution_count": null,
   "id": "4bffdf27-c595-430a-a7fb-9b49aa6de3d9",
   "metadata": {},
   "outputs": [],
   "source": []
  }
 ],
 "metadata": {
  "kernelspec": {
   "display_name": "Python 3 (ipykernel)",
   "language": "python",
   "name": "python3"
  },
  "language_info": {
   "codemirror_mode": {
    "name": "ipython",
    "version": 3
   },
   "file_extension": ".py",
   "mimetype": "text/x-python",
   "name": "python",
   "nbconvert_exporter": "python",
   "pygments_lexer": "ipython3",
   "version": "3.11.7"
  }
 },
 "nbformat": 4,
 "nbformat_minor": 5
}
