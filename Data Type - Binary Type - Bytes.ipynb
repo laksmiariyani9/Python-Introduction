{
 "cells": [
  {
   "cell_type": "markdown",
   "id": "b30a0fd2-e2ed-4c59-ab05-633aebc07842",
   "metadata": {},
   "source": [
    "# Bytes Data Type\n",
    "  - In Python, the bytes data type represents a sequence of bytes. Bytes objects are immutable, meaning they cannot be changed after creation. They are commonly used for handling binary data, such as reading from or writing to files, working with network protocols, and interacting with low-level system interfaces.\n",
    "  - You can create a bytes object by enclosing a sequence of bytes within a pair of single quotes (b'') or double quotes (b\"\"). Here's an example:\n",
    "    - my_bytes = b'hello'\n",
    "      - In this example, my_bytes is a bytes object containing the ASCII-encoded bytes representing the string \"hello\"."
   ]
  },
  {
   "cell_type": "markdown",
   "id": "3de7f9c1-1e63-48d3-8c9b-630300630e60",
   "metadata": {},
   "source": [
    "#### Bytes objects support various operations and methods for working with binary data, including :"
   ]
  },
  {
   "cell_type": "markdown",
   "id": "dcf68e42-8dbb-4d8a-8b73-eeca3449e6c8",
   "metadata": {},
   "source": [
    "- Indexing: Accessing individual bytes using index notation."
   ]
  },
  {
   "cell_type": "code",
   "execution_count": 8,
   "id": "8852f37c-c5fc-4410-bada-617ec38785a9",
   "metadata": {},
   "outputs": [
    {
     "name": "stdout",
     "output_type": "stream",
     "text": [
      "104\n"
     ]
    }
   ],
   "source": [
    "my_bytes = b'hello'\n",
    "\n",
    "print(my_bytes[0]) #Accesses the first byte of the bytes object"
   ]
  },
  {
   "cell_type": "markdown",
   "id": "6aa78ba7-041f-460f-9a94-3c873f2b8ea0",
   "metadata": {},
   "source": [
    "- Slicing: Extracting a portion of the bytes object."
   ]
  },
  {
   "cell_type": "code",
   "execution_count": 5,
   "id": "d7a42735-3548-48c2-8217-93afa5796385",
   "metadata": {},
   "outputs": [
    {
     "name": "stdout",
     "output_type": "stream",
     "text": [
      "b'ell'\n"
     ]
    }
   ],
   "source": [
    "my_bytes = b'hello'\n",
    "\n",
    "print(my_bytes[1:4]) #Extracts bytes from index 1 to 3 (exclusive)"
   ]
  },
  {
   "cell_type": "markdown",
   "id": "e5261eb5-6b4f-4f5b-961c-c2947f0f852b",
   "metadata": {},
   "source": [
    "- Length: Getting the length of the bytes object."
   ]
  },
  {
   "cell_type": "code",
   "execution_count": 9,
   "id": "155729e0-3105-4bc6-8199-4a11b1fe425e",
   "metadata": {},
   "outputs": [
    {
     "name": "stdout",
     "output_type": "stream",
     "text": [
      "5\n"
     ]
    }
   ],
   "source": [
    "my_bytes = b'hello'\n",
    "\n",
    "print(len(my_bytes)) #Prints the number of bytes in the bytes object"
   ]
  },
  {
   "cell_type": "markdown",
   "id": "5f31804d-1166-4883-8ed7-73a54dfd74ee",
   "metadata": {},
   "source": [
    "- Converting to String: Converting the bytes object to a string using decoding."
   ]
  },
  {
   "cell_type": "code",
   "execution_count": 10,
   "id": "572d6785-530e-4c21-b81e-63325c1d6c57",
   "metadata": {},
   "outputs": [
    {
     "name": "stdout",
     "output_type": "stream",
     "text": [
      "hello\n"
     ]
    }
   ],
   "source": [
    "my_bytes = b'hello'\n",
    "my_string = my_bytes.decode('utf-8') #Decodes the bytes object into a string\n",
    "\n",
    "print(my_string)"
   ]
  },
  {
   "cell_type": "markdown",
   "id": "1f1193b5-d2e4-48b5-a756-217c8b964001",
   "metadata": {},
   "source": [
    "- Concatenation: Combining two bytes objects."
   ]
  },
  {
   "cell_type": "code",
   "execution_count": 11,
   "id": "1027be48-d91d-49c0-889f-77ec8061ba4b",
   "metadata": {},
   "outputs": [
    {
     "name": "stdout",
     "output_type": "stream",
     "text": [
      "b'hello world'\n"
     ]
    }
   ],
   "source": [
    "my_bytes = b'hello'\n",
    "other_bytes = b' world'\n",
    "combined_bytes = my_bytes + other_bytes #Concatenates two bytes objects\n",
    "\n",
    "print(combined_bytes)"
   ]
  }
 ],
 "metadata": {
  "kernelspec": {
   "display_name": "Python 3 (ipykernel)",
   "language": "python",
   "name": "python3"
  },
  "language_info": {
   "codemirror_mode": {
    "name": "ipython",
    "version": 3
   },
   "file_extension": ".py",
   "mimetype": "text/x-python",
   "name": "python",
   "nbconvert_exporter": "python",
   "pygments_lexer": "ipython3",
   "version": "3.11.7"
  }
 },
 "nbformat": 4,
 "nbformat_minor": 5
}
