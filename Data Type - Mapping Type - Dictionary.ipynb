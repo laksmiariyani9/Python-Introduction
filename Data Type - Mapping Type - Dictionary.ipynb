{
 "cells": [
  {
   "cell_type": "markdown",
   "id": "32297841-af12-412d-9f55-15caf8faaa3c",
   "metadata": {},
   "source": [
    "# Dictionary Data Type\n",
    "  - In Python, a dictionary is a collection data type that is unordered, mutable, and consists of key-value pairs. Dictionaries are defined by enclosing comma-separated key-value pairs within curly braces '{ }'. Each key-value pair is separated by a colon ' : '. Here's a basic example of a dictionary:\n",
    "    - my_dict = {'name': 'Alice', 'age': 30, 'city': 'New York'}\n",
    "      - In this example:\n",
    "        - 'name', 'age', and 'city' are keys.\n",
    "        - 'Alice', 30, and 'New York' are the corresponding values associated with those keys.\n",
    "  - Key Features of Dictionaries:\n",
    "    - Unordered: Dictionaries do not maintain the order of key-value pairs as they are added.\n",
    "    - Mutable: You can add, remove, or modify key-value pairs in a dictionary after it is created.\n",
    "    - Unique Keys: Keys in a dictionary must be unique. If you try to add a duplicate key, it will overwrite the existing value associated with that key.\n"
   ]
  },
  {
   "cell_type": "markdown",
   "id": "584c5cbe-90a0-478c-b4e4-3214658c14b3",
   "metadata": {},
   "source": [
    "### Common Operations on Dictionaries"
   ]
  },
  {
   "cell_type": "markdown",
   "id": "4af20a8d-75fc-4137-9d85-a893f28202cb",
   "metadata": {},
   "source": [
    "- Accesing Values: You can access the value associated with a key using square brackets '[ ]'."
   ]
  },
  {
   "cell_type": "code",
   "execution_count": 2,
   "id": "cc4a76c8-8294-464b-b1a9-7ca0eb28d136",
   "metadata": {},
   "outputs": [
    {
     "name": "stdout",
     "output_type": "stream",
     "text": [
      "Alice\n"
     ]
    }
   ],
   "source": [
    "my_dict = {'name': 'Alice', 'age': 30, 'city': 'New York'}\n",
    "name = my_dict['name'] #Accesses the value associated with the key 'name'\n",
    "\n",
    "print(name)"
   ]
  },
  {
   "cell_type": "markdown",
   "id": "c81c55d9-9b4c-487e-8206-a23a45dcd2f8",
   "metadata": {},
   "source": [
    "- Adding or Modifying Elements: You can add new key-value pairs or modify existing ones by assigning values to keys."
   ]
  },
  {
   "cell_type": "code",
   "execution_count": 3,
   "id": "d509ca50-803c-47fa-b9a1-dd398e2f9d9f",
   "metadata": {},
   "outputs": [
    {
     "name": "stdout",
     "output_type": "stream",
     "text": [
      "{'name': 'Alice', 'age': 31, 'city': 'New York', 'email': 'alice@example.com'}\n"
     ]
    }
   ],
   "source": [
    "my_dict = {'name': 'Alice', 'age': 30, 'city': 'New York'}\n",
    "my_dict['email'] = 'alice@example.com' #Adds a new key-value pair\n",
    "my_dict['age'] = 31 #Modifies the value associated with the key 'age'\n",
    "\n",
    "print(my_dict)"
   ]
  },
  {
   "cell_type": "markdown",
   "id": "cae5d05e-f3bd-4899-b1c5-40ef06721524",
   "metadata": {},
   "source": [
    "- Removing Elements: You can remove key-value pairs from a dictionary using the 'del' keyword or the 'pop( )' method."
   ]
  },
  {
   "cell_type": "code",
   "execution_count": 4,
   "id": "a190deb6-d0b7-4818-84c1-2c0e4c87c290",
   "metadata": {},
   "outputs": [
    {
     "name": "stdout",
     "output_type": "stream",
     "text": [
      "{'name': 'Alice'}\n"
     ]
    }
   ],
   "source": [
    "my_dict = {'name': 'Alice', 'age': 30, 'city': 'New York'}\n",
    "del my_dict['city'] #Removes the key-value pair with the key 'city'\n",
    "popped_value = my_dict.pop('age') #Removes and returns the value associated with the key 'age'\n",
    "\n",
    "print(my_dict)"
   ]
  },
  {
   "cell_type": "markdown",
   "id": "4ba9ea20-1992-4c24-9a25-c9da0614ee0f",
   "metadata": {},
   "source": [
    "- Iterating Over Dictionaries: You can iterate over the keys, values, or key-value pairs of a dictionary using loops."
   ]
  },
  {
   "cell_type": "code",
   "execution_count": 8,
   "id": "cbb8ca7b-40ae-4847-9509-01a39dd00339",
   "metadata": {},
   "outputs": [
    {
     "name": "stdout",
     "output_type": "stream",
     "text": [
      "name\n",
      "age\n",
      "city\n",
      "Alice\n",
      "30\n",
      "New York\n",
      "name Alice\n",
      "age 30\n",
      "city New York\n"
     ]
    }
   ],
   "source": [
    "my_dict = {'name': 'Alice', 'age': 30, 'city': 'New York'}\n",
    "\n",
    "for key in my_dict:\n",
    "    print(key) #Prints each key in the dictionary\n",
    "\n",
    "for value in my_dict.values():\n",
    "    print(value) #Prints each value in the dictionary\n",
    "\n",
    "for key, value in my_dict.items():\n",
    "    print(key, value) #Prints each key-value pair in the dictionary"
   ]
  }
 ],
 "metadata": {
  "kernelspec": {
   "display_name": "Python 3 (ipykernel)",
   "language": "python",
   "name": "python3"
  },
  "language_info": {
   "codemirror_mode": {
    "name": "ipython",
    "version": 3
   },
   "file_extension": ".py",
   "mimetype": "text/x-python",
   "name": "python",
   "nbconvert_exporter": "python",
   "pygments_lexer": "ipython3",
   "version": "3.11.7"
  }
 },
 "nbformat": 4,
 "nbformat_minor": 5
}
