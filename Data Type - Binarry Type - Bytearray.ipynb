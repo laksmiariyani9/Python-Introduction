{
 "cells": [
  {
   "cell_type": "markdown",
   "id": "709179b8-032d-4431-8b72-c1040c22db70",
   "metadata": {},
   "source": [
    "# Bytearray Data Type\n",
    "  - In Python, the bytearray data type is similar to the bytes data type, but with one key difference: it is mutable. This means that a bytearray object can be modified after it is created, whereas a bytes object is immutable and cannot be changed.\n",
    "  - A bytearray object represents a sequence of bytes and is commonly used for situations where you need to modify binary data in place, such as reading from or writing to files, working with network protocols, or performing low-level system interactions.\n",
    "  - You can create a bytearray object by passing a sequence of bytes to the bytearray() constructor. Here's an example:\n",
    "    - my_bytearray = bytearray(b'hello')\n",
    "      - In this example, my_bytearray is a bytearray object containing the ASCII-encoded bytes representing the string \"hello\". byte with the ASCII value of '!'"
   ]
  },
  {
   "cell_type": "markdown",
   "id": "92f885f4-bf5b-49d9-9dd6-f2513c38ffe7",
   "metadata": {},
   "source": [
    "#### Bytearray objects support various operations and methods for working with binary data, including :"
   ]
  },
  {
   "cell_type": "markdown",
   "id": "484bbfc2-32c8-4940-807b-abcd7f798ec8",
   "metadata": {},
   "source": [
    "- Indexing: Accessing individual bytes using index notation."
   ]
  },
  {
   "cell_type": "code",
   "execution_count": 3,
   "id": "2d6e51c9-7ceb-4520-8a66-33bbcf12e3ea",
   "metadata": {},
   "outputs": [
    {
     "name": "stdout",
     "output_type": "stream",
     "text": [
      "104\n"
     ]
    }
   ],
   "source": [
    "my_bytearray = bytearray(b'hello')\n",
    "\n",
    "print(my_bytearray[0]) #Access the first byte of the bytearray object"
   ]
  },
  {
   "cell_type": "markdown",
   "id": "74047583-3d36-43ae-90b8-59efe3fd319e",
   "metadata": {},
   "source": [
    "- Slicing: Extracting a portion of the bytearray object."
   ]
  },
  {
   "cell_type": "code",
   "execution_count": 2,
   "id": "644dcb82-46ce-4a1a-8e25-e83854855157",
   "metadata": {},
   "outputs": [
    {
     "name": "stdout",
     "output_type": "stream",
     "text": [
      "bytearray(b'ell')\n"
     ]
    }
   ],
   "source": [
    "my_bytearray = bytearray(b'hello')\n",
    "\n",
    "print(my_bytearray[1:4]) #Extracts bytes from index 1 to 3 (exclusive)"
   ]
  },
  {
   "cell_type": "markdown",
   "id": "a99dc668-70ec-47c6-9b3e-8b285a2bddd2",
   "metadata": {},
   "source": [
    "- Length: Getting the length of the bytearray object."
   ]
  },
  {
   "cell_type": "code",
   "execution_count": 4,
   "id": "162f8076-2449-4735-8bcf-573f82dc5984",
   "metadata": {},
   "outputs": [
    {
     "name": "stdout",
     "output_type": "stream",
     "text": [
      "5\n"
     ]
    }
   ],
   "source": [
    "my_bytearray = bytearray(b'hello')\n",
    "\n",
    "print(len(my_bytearray)) #Prints the number of bytes in the bytearray object"
   ]
  },
  {
   "cell_type": "markdown",
   "id": "4ce6d0b1-8e00-4a0e-920a-f917d1d14990",
   "metadata": {},
   "source": [
    "- Modifying Bytes: Changing the value of bytes in the bytearray object."
   ]
  },
  {
   "cell_type": "code",
   "execution_count": 6,
   "id": "49b6ca03-9ff7-488e-995f-737b001bfe78",
   "metadata": {},
   "outputs": [
    {
     "name": "stdout",
     "output_type": "stream",
     "text": [
      "bytearray(b'Aello')\n"
     ]
    }
   ],
   "source": [
    "my_bytearray = bytearray(b'hello')\n",
    "my_bytearray[0] = 65 #Changes the first byte to the ASCII value of 'A'\n",
    "\n",
    "print(my_bytearray)"
   ]
  },
  {
   "cell_type": "markdown",
   "id": "e5be4217-7d57-462b-82e1-52055b7735d6",
   "metadata": {},
   "source": [
    "- Appending Bytes: Adding new bytes to the end of the bytearray object."
   ]
  },
  {
   "cell_type": "code",
   "execution_count": 8,
   "id": "4ad68926-ece2-4b0a-aef4-22815bc4c0d7",
   "metadata": {},
   "outputs": [
    {
     "name": "stdout",
     "output_type": "stream",
     "text": [
      "bytearray(b'hello!')\n"
     ]
    }
   ],
   "source": [
    "my_bytearray = bytearray(b'hello')\n",
    "my_bytearray.append(33) #Appends the byte with the ASCII value of '!'\n",
    "\n",
    "print(my_bytearray)"
   ]
  }
 ],
 "metadata": {
  "kernelspec": {
   "display_name": "Python 3 (ipykernel)",
   "language": "python",
   "name": "python3"
  },
  "language_info": {
   "codemirror_mode": {
    "name": "ipython",
    "version": 3
   },
   "file_extension": ".py",
   "mimetype": "text/x-python",
   "name": "python",
   "nbconvert_exporter": "python",
   "pygments_lexer": "ipython3",
   "version": "3.11.7"
  }
 },
 "nbformat": 4,
 "nbformat_minor": 5
}
